{
 "cells": [
  {
   "cell_type": "code",
   "execution_count": 1,
   "metadata": {},
   "outputs": [],
   "source": [
    "import os\n",
    "import json\n",
    "from tqdm import tqdm\n",
    "from concurrent.futures import ThreadPoolExecutor\n",
    "import requests\n",
    "import time\n"
   ]
  },
  {
   "cell_type": "code",
   "execution_count": 2,
   "metadata": {},
   "outputs": [],
   "source": [
    "def fetch_metadata(arxiv_id, max_retries, initial_delay):\n",
    "    url = f\"https://api.semanticscholar.org/v1/paper/arXiv:{arxiv_id}\"\n",
    "    \n",
    "    for attempt in range(max_retries):\n",
    "        response = requests.get(url)\n",
    "        if response.status_code == 200:\n",
    "            return response.json()\n",
    "        elif response.status_code == 429:  # Too Many Requests\n",
    "            delay = initial_delay * (2 ** attempt)  # Exponential backoff\n",
    "            print(f\"Rate limit hit, waiting {delay} seconds...\")\n",
    "            time.sleep(delay)\n",
    "            continue\n",
    "        else:\n",
    "            print(f\"Failed :{arxiv_id}. Status code: {response.status_code}, Response: {response.text}\")\n",
    "            return None\n",
    "    \n",
    "    print(f\"Max retries exceeded for {arxiv_id}\")\n",
    "    return None"
   ]
  },
  {
   "cell_type": "code",
   "execution_count": 3,
   "metadata": {},
   "outputs": [],
   "source": [
    "def process_files(metadata_dir, max_workers):\n",
    "    \"\"\"\n",
    "    Process files with better error handling and progress tracking\n",
    "    \"\"\"\n",
    "    files = os.listdir(metadata_dir)\n",
    "    total_files = len(files)\n",
    "    \n",
    "    # Track successful and failed papers\n",
    "    successful = []\n",
    "    failed = []\n",
    "    \n",
    "    # Create progress bar\n",
    "    pbar = tqdm(\n",
    "        total=total_files,\n",
    "        desc=\"Fetching metadata\",\n",
    "        unit=\"papers\"\n",
    "    )\n",
    "    \n",
    "    def process_and_update(file):\n",
    "        try:\n",
    "            arxiv_id = file.replace('_', '/').replace('.json', '')\n",
    "            response = fetch_metadata(\n",
    "                arxiv_id,\n",
    "                max_retries=10,     \n",
    "                initial_delay=2     \n",
    "            )\n",
    "            \n",
    "            if response:\n",
    "                with open(os.path.join(metadata_dir, file), 'w') as f:\n",
    "                    json.dump(response, f, indent=4)\n",
    "                successful.append(arxiv_id)\n",
    "            else:\n",
    "                failed.append(arxiv_id)\n",
    "                \n",
    "            pbar.update(1)\n",
    "            \n",
    "        except Exception as e:\n",
    "            print(f\"Error processing {file}: {str(e)}\")\n",
    "            failed.append(file)\n",
    "            pbar.update(1)\n",
    "    \n",
    "    # Process files in parallel with reduced workers\n",
    "    with ThreadPoolExecutor(max_workers=max_workers) as executor:\n",
    "        futures = [executor.submit(process_and_update, file) for file in files]\n",
    "        for future in futures:\n",
    "            future.result()\n",
    "    \n",
    "    pbar.close()\n",
    "    \n",
    "    # Save progress report\n",
    "    report = {\n",
    "        'total_processed': len(files),\n",
    "        'successful': len(successful),\n",
    "        'failed': len(failed),\n",
    "        'failed_ids': failed\n",
    "    }\n",
    "    \n",
    "    with open('fetch_report.json', 'w') as f:\n",
    "        json.dump(report, f, indent=4)\n",
    "    \n",
    "    print(f\"\\nProcessing complete!\")\n",
    "    print(f\"Successfully processed: {len(successful)}\")\n",
    "    print(f\"Failed: {len(failed)}\")\n",
    "    if failed:\n",
    "        print(\"Failed IDs saved to fetch_report.json\")"
   ]
  },
  {
   "cell_type": "code",
   "execution_count": 4,
   "metadata": {},
   "outputs": [
    {
     "name": "stderr",
     "output_type": "stream",
     "text": [
      "Fetching metadata:   1%|          | 79/10000 [00:42<1:27:43,  1.88papers/s]"
     ]
    }
   ],
   "source": [
    "process_files('papers/metadata_lg/1', max_workers=2)"
   ]
  },
  {
   "cell_type": "code",
   "execution_count": null,
   "metadata": {},
   "outputs": [],
   "source": []
  }
 ],
 "metadata": {
  "kernelspec": {
   "display_name": "Python 3",
   "language": "python",
   "name": "python3"
  },
  "language_info": {
   "codemirror_mode": {
    "name": "ipython",
    "version": 3
   },
   "file_extension": ".py",
   "mimetype": "text/x-python",
   "name": "python",
   "nbconvert_exporter": "python",
   "pygments_lexer": "ipython3",
   "version": "3.11.4"
  }
 },
 "nbformat": 4,
 "nbformat_minor": 2
}
