{
 "cells": [
  {
   "cell_type": "code",
   "execution_count": null,
   "metadata": {},
   "outputs": [],
   "source": [
    "%%capture\n",
    "! pip install arxiv\n",
    "! pip install networkx\n",
    "! pip install PyPDF2\n",
    "import arxiv\n",
    "import networkx as nx\n",
    "import requests\n",
    "import os\n",
    "import re\n",
    "import nltk\n",
    "import requests"
   ]
  },
  {
   "cell_type": "code",
   "execution_count": null,
   "metadata": {},
   "outputs": [],
   "source": [
    "# Define the API call\n",
    "client = arxiv.Client()\n",
    "\n",
    "search = arxiv.Search(\n",
    "    query =\"artificial intelligence\",\n",
    "    max_results = 100,\n",
    "    sort_by = arxiv.SortCriterion.SubmittedDate\n",
    ")\n"
   ]
  },
  {
   "cell_type": "code",
   "execution_count": null,
   "metadata": {},
   "outputs": [],
   "source": [
    "# Build nx graph\n",
    "G = nx.DiGraph()\n",
    "\n",
    "results = client.results(search)\n",
    "\n",
    "for paper in results:\n",
    "  G.add_node(paper.entry_id, title=paper.title, authors=paper.authors, summary=paper.summary, url=paper.pdf_url)"
   ]
  }
 ],
 "metadata": {
  "language_info": {
   "name": "python"
  }
 },
 "nbformat": 4,
 "nbformat_minor": 2
}
