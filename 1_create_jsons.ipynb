{
 "cells": [
  {
   "cell_type": "code",
   "execution_count": 1,
   "metadata": {},
   "outputs": [
    {
     "name": "stdout",
     "output_type": "stream",
     "text": [
      "Requirement already satisfied: jsonlines in /Users/beatweichsler/anaconda3/lib/python3.11/site-packages (4.0.0)\n",
      "Requirement already satisfied: attrs>=19.2.0 in /Users/beatweichsler/anaconda3/lib/python3.11/site-packages (from jsonlines) (22.1.0)\n"
     ]
    }
   ],
   "source": [
    "! pip install jsonlines\n",
    "import os\n",
    "import jsonlines"
   ]
  },
  {
   "cell_type": "markdown",
   "metadata": {},
   "source": [
    "- cs.AI: 108k papers\n",
    "- cs.LG: 197k papers \n",
    "- cs.AI + cs.LG: 260k papers"
   ]
  },
  {
   "cell_type": "code",
   "execution_count": 2,
   "metadata": {},
   "outputs": [],
   "source": [
    "def create_json_from_arxiv():\n",
    "    output_dir = \"papers/metadata_lg\"\n",
    "    os.makedirs(output_dir, exist_ok=True)\n",
    "    counter = 0\n",
    "    folder = 0\n",
    "\n",
    "    # read arxiv metadata\n",
    "    with jsonlines.open('arxiv-metadata-oai-snapshot.json') as reader:\n",
    "        for article in reader:\n",
    "            # check if paper is in the right category\n",
    "            categories = article.get('categories').split()\n",
    "\n",
    "            if 'cs.LG' in categories and 'cs.AI' not in categories:\n",
    "                # jump to next folder every 10k papers\n",
    "                if counter % 10000 == 0:\n",
    "                    folder += 1\n",
    "                    output_dir = f\"papers/metadata_lg/{folder}\"\n",
    "                    os.makedirs(output_dir, exist_ok=True)\n",
    "\n",
    "                # clean arxiv id\n",
    "                clean_arxiv_id = article.get('id').split('v')[0]\n",
    "\n",
    "                # Create empty file with cleaned arXiv ID\n",
    "                paper_id = clean_arxiv_id.replace('/', '_')  # Replace slashes with underscores\n",
    "                output_path = os.path.join(output_dir, f'{paper_id}.json')\n",
    "\n",
    "                # Create an empty file\n",
    "                with open(output_path, 'w') as file:\n",
    "                    pass  # This creates an empty file\n",
    "\n",
    "                counter += 1\n",
    "        \n",
    "                if counter % 10000 == 0:\n",
    "                    print(f\"Processed {counter} papers\")\n",
    "    print(counter)"
   ]
  },
  {
   "cell_type": "code",
   "execution_count": 3,
   "metadata": {},
   "outputs": [
    {
     "name": "stdout",
     "output_type": "stream",
     "text": [
      "Processed 10000 papers\n",
      "Processed 20000 papers\n",
      "Processed 30000 papers\n",
      "Processed 40000 papers\n",
      "Processed 50000 papers\n",
      "Processed 60000 papers\n",
      "Processed 70000 papers\n",
      "Processed 80000 papers\n",
      "Processed 90000 papers\n",
      "Processed 100000 papers\n",
      "Processed 110000 papers\n",
      "Processed 120000 papers\n",
      "Processed 130000 papers\n",
      "Processed 140000 papers\n",
      "148416\n"
     ]
    }
   ],
   "source": [
    "create_json_from_arxiv()"
   ]
  },
  {
   "cell_type": "code",
   "execution_count": null,
   "metadata": {},
   "outputs": [],
   "source": []
  }
 ],
 "metadata": {
  "kernelspec": {
   "display_name": "Python 3",
   "language": "python",
   "name": "python3"
  },
  "language_info": {
   "codemirror_mode": {
    "name": "ipython",
    "version": 3
   },
   "file_extension": ".py",
   "mimetype": "text/x-python",
   "name": "python",
   "nbconvert_exporter": "python",
   "pygments_lexer": "ipython3",
   "version": "3.11.4"
  }
 },
 "nbformat": 4,
 "nbformat_minor": 2
}
