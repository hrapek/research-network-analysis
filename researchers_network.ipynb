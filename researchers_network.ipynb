{
 "cells": [
  {
   "cell_type": "markdown",
   "metadata": {},
   "source": [
    "## Building Graph of Researchers"
   ]
  },
  {
   "cell_type": "code",
   "execution_count": 58,
   "metadata": {},
   "outputs": [],
   "source": [
    "import os\n",
    "import json\n",
    "import networkx as nx\n",
    "import pickle"
   ]
  },
  {
   "cell_type": "code",
   "execution_count": 59,
   "metadata": {},
   "outputs": [],
   "source": [
    "def add_paper_to_graph(graph, paper):\n",
    "    \"\"\"\n",
    "    Add a paper to the graph. Nodes are authors, and edges represent collaborations on the paper.\n",
    "    \"\"\"\n",
    "    # Extract author names (handle both list of strings and list of dicts)\n",
    "    authors_raw = paper.get(\"authors\", [])\n",
    "    authors = []\n",
    "    for author in authors_raw:\n",
    "        if isinstance(author, dict) and \"name\" in author:\n",
    "            authors.append(author[\"name\"])\n",
    "        elif isinstance(author, str):\n",
    "            authors.append(author)\n",
    "\n",
    "    arxiv_id = paper.get(\"arxivId\", \"Unknown Arxiv ID\")\n",
    "    title = paper.get(\"title\", \"Unknown Title\")\n",
    "    \n",
    "    # Add nodes and update their attributes\n",
    "    for author in authors:\n",
    "        if author not in graph:\n",
    "            graph.add_node(author, papers=[])\n",
    "        # Add this paper (arxivId, title) to the author's list of papers\n",
    "        graph.nodes[author][\"papers\"].append((arxiv_id, title))\n",
    "    \n",
    "    # Add edges for each pair of authors in the paper\n",
    "    for i, author1 in enumerate(authors):\n",
    "        for j, author2 in enumerate(authors):\n",
    "            if i >= j:  # Avoid adding self-loops and duplicate edges\n",
    "                continue\n",
    "            \n",
    "            # Add edge with paper attributes\n",
    "            graph.add_edge(author1, author2, \n",
    "                           title=title,\n",
    "                           year=paper.get(\"year\"),\n",
    "                           authors=authors,\n",
    "                           doi=paper.get(\"doi\"),\n",
    "                           fieldsOfStudy=paper.get(\"fieldsOfStudy\"),\n",
    "                           influencialCitationCount=paper.get(\"influencialCitationCount\"),\n",
    "                           isOpenAccess=paper.get(\"isOpenAccess\"),\n",
    "                           numCitedBy=paper.get(\"numCitedBy\"),\n",
    "                           numCiting=paper.get(\"numCiting\"),\n",
    "                           arxivId=arxiv_id,\n",
    "                           paperId=paper.get(\"paperId\"))"
   ]
  },
  {
   "cell_type": "code",
   "execution_count": 60,
   "metadata": {},
   "outputs": [
    {
     "name": "stdout",
     "output_type": "stream",
     "text": [
      "\n",
      "Skipped 38 files due to Invalid JSON format or empty file\n",
      "Graph has 18120 nodes and 49192 edges.\n"
     ]
    }
   ],
   "source": [
    "G = nx.MultiGraph()\n",
    "\n",
    "# Path to the directory containing JSON files\n",
    "directory_path = \"paper_jsons/metadata\"\n",
    "\n",
    "skipped_counter = 0\n",
    "# Iterate through all JSON files in the directory\n",
    "for filename in os.listdir(directory_path):\n",
    "    if filename.endswith(\".json\"):\n",
    "        file_path = os.path.join(directory_path, filename)\n",
    "        with open(file_path, \"r\") as file:\n",
    "            try:\n",
    "                # Load JSON\n",
    "                paper = json.load(file)\n",
    "                \n",
    "                # Skip empty JSON objects\n",
    "                if not paper:\n",
    "                    print(f\"Skipping file {file_path}: Empty JSON file.\")\n",
    "                    continue\n",
    "                \n",
    "                add_paper_to_graph(G, paper)\n",
    "            except json.JSONDecodeError:\n",
    "                skipped_counter += 1\n",
    "            except Exception as e:\n",
    "                print(f\"Error processing file {file_path}: {e}\")\n",
    "\n",
    "print(f\"\\nSkipped {skipped_counter} files due to Invalid JSON format or empty file\")\n",
    "print(f\"Graph has {len(G.nodes)} nodes and {len(G.edges)} edges.\")"
   ]
  },
  {
   "cell_type": "markdown",
   "metadata": {},
   "source": [
    "#### Save raw graph"
   ]
  },
  {
   "cell_type": "code",
   "execution_count": null,
   "metadata": {},
   "outputs": [],
   "source": [
    "# Save graph\n",
    "name = \"researchers_graph_raw.pkl\"\n",
    "with open(name, \"wb\") as f:\n",
    "    pickle.dump(G, f)\n",
    "print(f\"Graph saved to {name}\")"
   ]
  },
  {
   "cell_type": "markdown",
   "metadata": {},
   "source": [
    "#### Check number of isolated nodes"
   ]
  },
  {
   "cell_type": "code",
   "execution_count": 61,
   "metadata": {},
   "outputs": [
    {
     "name": "stdout",
     "output_type": "stream",
     "text": [
      "Isolated nodes: ['Daegene Song', 'K. Sgarbas', 'Wilson Wong', 'S. Konstantopoulos', 'J. V. D. Bussche', 'I. Suslov', 'Alejandro Chinea Manrique De Lara', 'Patrizio Frosini', 'A. Berrones', 'C. Vidal', 'Hang T. Dinh', 'Catherine Recanati', 'F. Murtagh', 'A. Adamatzky', 'Riccardo Alberti', 'Konstantin P. Wishnevsky', 'E. Diamant', 'Eric Engle', 'M. Geiger', 'A. Pereira', 'M. Horvat', 'N. Kumar', 'P. Zizzi', 'Janardan Misra', 'Ernesto Diaz-Aviles', 'Y. Freund', 'Gilles Champenois', 'D. Le', 'K. Ammon', 'G. Paiva', 'York Sure', 'Ping Li', 'Robert Shour', 'Jonathan Timmis', 'Rüdiger Vaas', 'J. Han', 'A. D. Franco', 'Charles A. B. Robert', 'Evgeny Chutchev', 'P. Werbos', 'Dariusz M Plewczynski', 'J. Burger', 'Kush Agrawal', 'Shubham Chakraborty', 'M. I. Jordan', 'Eray Özkural', 'Ladislau Bölöni', 'P. Resnik', 'T. Hogg', 'R. Rosati', 'Radford M. Neal', 'M. Cristani', 'Eray Ozkural', 'N. M. Loghmani', 'Paola Di Maio', 'R. E. Kent', 'D. McDermott', 'David E. Smith', 'Amitabha Roy', 'Michael Deynet', 'M. Boddy', 'M. Bronstein', 'C. Gros', 'Li Tan', 'G. White', 'Erik Quaeghebeur', 'Jens Witkowski', 'Youssef Bassil', 'S. Jha', 'Jascha Narain Sohl-Dickstein', 'Mohamed Nazih Omri', 'F. Eberhardt', 'Sebastian Riedel', 'Ad Feelders', 'C. Asavathiratham', 'Mikko Koivisto', 'M. Jaeger', 'Seunghwan Lee', 'Paul Weng', 'D. Dobrev', 'G. Sanfilippo', 'J. E. Marynowski', 'L. B. Muñoz', 'Joshua Goodman', 'C. Raphael', 'P. Grunwald', 'H. Steck', 'Firoj Parwej', 'A. Serov', 'S. Dasgupta', 'D. Harmanec', 'José M. Peña', 'B. Desjardins', 'Yuri Parzhin', 'J. Bigham', 'Jens Doerpmund', 'M. Bauer', 'L. Chrisman', 'Emil Kotomin', 'Wray L. Buntine', 'M. Hulme', 'Grigoris I. Karakoulas', 'Uffe Kjaerulff', 'E. Weydert', 'Derek D. Ayers', 'I. Batyrshin', 'R. Bhatnagar', 'R. Bouckaert', 'P. Fonck', 'M. Studený', 'Sek-Wah Tan', 'P. Regan', 'F. Díez', 'L. Burnell', 'R. Bordley', 'N. Dalkey', 'G. Paass', 'D. Hunter', 'E. Santos', 'Paul Snow', 'T. Shultz', 'Yizong Cheng', 'E. Ruspini', 'R. Yager', 'A. Hanson', 'Thomas D. Wu', 'D. Sher', 'H. Lehmann', 'Paul E. Lehner', 'R. Loui', 'M. Smithson', 'T. Strat', 'Christoph F. Eick', 'S. Star', 'John B. Bacon', 'M. C. Higgins', 'S. Ursic', 'R. Caruana', 'S. I. Gallant', 'Thomas B. Slack', 'S. Abel', 'Kaihu Chen', 'P. Fua', 'Benjamin N. Grosof', 'S. L. Hardt', 'S. Henkind', 'C. Kalme', 'Uttam Mukhopadhyay', 'S. Schocken', 'Rodney W. Johnson', 'J. Shore', 'R. Solomonoff', 'L. Rendell', 'H. Hamburger', 'L. Ingber', 'Gerald Liu', 'M. Schubotz', 'P. Galliani', 'Robert R. Tucci', 'Michel Halmes', 'A. Idrissi', 'Piyush Ahuja', 'E. P. Marinho', 'Rodrigo López-Pablos', 'R. Verbrugge', 'M. Laufer', 'Julio Lemos', 'C. Gonçalves', 'Meghyn Bienvenu', 'P. Haslum', 'Kieran R. C. Greer', 'Anderson Beraldo De Araújo', 'B. Tomas', 'Guido Governatori', 'Gabriel Leuenberger', 'A. Konigsberg', 'Aadhityan A', 'Reza Azizi', 'Faruk Karaaslan', 'B. Płaczek', 'Karthik H. Shankar', 'K. Latif', 'J. G. Wolff', \"V. V'yugin\", 'Brian Tomasik', 'Nicholas H. Kirk', 'Glenn R. Hofford', 'T. Ohira', 'Daniel Kovach', 'Ohad Asor', 'D. Powers', 'Vishal Shukla', \"D. Nikoli'c\", 'F. Duris', 'Arthur Franz', 'C. Trugenberger', 'Christopher A. Tucker', 'Khalid Raza', 'ThomasE . Portegys', 'Hao Wu', 'L. Riek', 'Ehsan Lotfi', 'Antonio Lieto', 'A. MacFie', 'A. Sandberg', 'S. Kulikov', 'F. Simini', 'Joshua Brulé', 'D. Harel', 'Kenji Kawaguchi', 'David J. Jilk', 'Shadrack Kimutai', 'V. Shakirov', 'Nabiha Asghar', 'A. Lodwich', 'Ben Cowley', 'A. Ushveridze', 'Sumita Basu', 'A. Rubchinsky', 'Lucius T. Schoenbaum', 'A. Masoud', 'Telmo Menezes', 'Fahim T. Imam', 'Shiyou Lian', 'S. Datta', 'J. M. Wong', 'Akshay Balsubramani', 'Young-jun Yu', 'K. Schlechta', 'Erik Talvitie', 'Toni Heidenreich', 'Mark Muraven', 'Gabriel Murray', 'S. Hansen', 'D. McDonald', 'P. Dey', 'Shahab Ebrahimi', 'L. Bertossi', 'S. Meyer', 'Arindam Bhattacharya', 'S. Frank', 'S. Tran', 'Terrence Adams', 'R. Laroche', 'C. Oesch', 'David Von Dollen', 'M. Niazi', 'Maxime Lenormand', 'S. Loke', 'D. D. Giorgio', 'Yujian Li', 'Fabio Massimo Zanzotto', 'Mitsuru Igami', 'C. McBride', 'J. Gans', 'Isa Inuwa-Dutse', 'Zengkun Li', 'Wenpin Jiao', 'M. Nadin', 'R. Chidambaram', 'M. Gagen', 'Jason Toy', 'Michael J. Kurtz', 'T. Khovanova', 'V. Mahajan', 'Andrey Chistyakov', 'Aaron Hertzmann', 'John K. C. Kingston', 'Douglas Summers Stay', 'E. Sanchis', 'Paul Yaworsky', 'Spyridon Samothrakis', 'Alberto Perez Veiga', 'A. Davison', 'W. Skaba', 'Xin-She Yang', 'Wenyi Wang', 'A. Loeb', 'Abel Torres Montoya', 'G. Rinkus', 'T. G. Karimpanal', 'Umberto Grandi', 'G. Spigler', 'Amir Ramezani Dooraki', 'Moshe BenBassat', 'Albert Ierusalem', 'Huayu Li', 'Andrew Brockmann', 'Kirsten Lloyd', 'J. Kingston', 'V. Patrascu', 'Rafik Hadfi', 'Bin Liu', 'S. Gratton', \"Shaun C. D'Souza\", 'Daniel Muller', 'Neha Baranwal', 'Martin Biehl', 'Benjamin Graham', 'Shari Trewin', 'Masataro Asai', 'Haifeng Wang', 'Daniel Estrada', 'D. Mitra', 'R. Orús', 'B. Chan', 'Saber Malekzadeh', 'L. Collins', 'F. Corbacho', 'M. H. Calp', 'Scott H. Hawley', 'Ryuta Arisaka', 'M. Roche', 'A. Wilk', 'A. Roibu', 'Andrew Powell', 'Ensar Seker', 'Oscar J. Romero', 'Yutaka Nagashima', 'N. Le', 'J. Lehman', 'Benjamin S. Bleier', 'K. Holtman', 'P. Kraikivski', 'T. R. Razak', 'Haifeng Qian', 'David Cerezo Sánchez', 'Francesco Pacenza', 'Rene Schaub', 'Sai Krishna Rallabandi', 'Haytham H. Elmousalami', 'Qi Deng', 'Carol J. Smith', 'François Chollet', 'I. Prasetya', 'F. Filipp', 'Steve Kommrusch', 'H. Lyre', 'J. Ott', 'Andrés García-Camino', 'Olegs Verhodubs', 'Haydn Belfield', 'Mitchell Burger', 'A. De Visscher', 'B. Shneiderman', \"Santiago Ontan'on\", \"Esteban Garc'ia-Cuesta\", 'Philip Paquette', 'O-Kyang Kwon', 'J. Raimbault', 'Chaehan So', 'Andrés Páez', 'L. Smith', 'Philipp Brune', 'A. D. Nuovo', 'Naoya Arakawa', 'T. Tammet', 'Tai Vu', 'Toby Walsh', 'J. V. Dijk', 'Marius Buliga', 'T. Mizuta', 'Tao Liu', 'R. Diestel', 'Abonia Sojasingarayar', 'Kyle D. Dent', 'Rachel Freedman', 'P. Santhanam', 'Michael Falk', 'Ugurkan Ates', 'G. Samara', 'Y. Yazici', \"Andr'es Garc'ia-Camino\", 'Jonathan Pan', 'A. Kharal', 'A. Cichocki', 'Sanskriti Singh', 'D. Akogo', 'L. Eliot', 'Hyunsung Lee', 'Ralph Foorthuis', 'A. Lohn', 'Markus Borg', 'M. Molina', 'A. Bertagnon', 'U. Kerzel', 'R. Shekhar', 'Oana-Maria Camburu', 'Ihor Kendiukhov', 'Fabrice Muhlenbach', 'J. Shainline', 'Shutang You', 'Yifei Mao', 'Noah Goodall', 'Kwadwo Opong-Mensah', 'Khouloud Hwerbi', 'Gissel Velarde', 'T. D. Souza', 'Puneet Kumar', 'Cory E. Merkel', 'Hui Wei', 'G. Marinov', 'J. Seah', 'Zachary Taschdjian', 'Rajesh P. N. Rao', 'E. Golikov', 'Alex P. James', 'Raymond Anneborg', 'Nuno Fachada', 'Sarada Devaram', 'P. Liberatore', 'Mohammad Reza Davahli', 'Stefanos Tsimenidis', 'R. Dhakshinamurthy', 'Wuchen Li', 'C. Stix', 'M. McPherson', 'K. Yadav', 'Wlodzislaw Duch', 'Appau Ernest', 'Martin C Nwadiugwu', 'J. P. Meneses', 'Michael Lissack', 'Taro Sakurai', 'Steven J. Frank', 'Amir Rasouli', 'Autumn Toney', 'Konstantinos Demertzis', 'Yongge Wang', 'J. Straub', 'L. K. Davis', 'Noah Klarmann', 'Frank Guerin', 'Felix Weitkämper', 'B. Liu', 'H. Stevance', 'Daniel A. Roberts', 'Benjamin Kahl', 'D. Pastor-Escuredo', 'Suyash Shandilya', 'M. Calder', 'Shubham Shrivastava', 'Jiangfeng Zheng', 'Lambert Hogenhout', 'Grzegorz Chrupała', 'Aviv Keren', 'E. Zolotareva', 'Davide Grossi', 'Weijia Zhang', 'B. Goodman', 'Zeinab Rouhollahi', 'L. Torres-Treviño', 'Niklas Muennighoff', 'Gang Wang', 'Liping Yang', \"Anna Xamb'o\", 'D. Ruijters', 'Qing Wang', 'Vaden Masrani', 'Hung Le', 'A. Sarkar', 'M. P. Bonacina', 'V. Janev', 'A. Cetoli', 'A. Farjami', 'Yoonsuck Choe', 'Hoe-Han Goh', 'Michael R Douglas', 'A. Velichko', 'Filippo Bistaffa', 'Xavier Vasques', 'Arnav Kartikeya', 'Abdelrahman Elsharawy', 'J. Chauvet', 'Pedro A. Moreno-Sánchez', 'Naoto Ohsaka', 'Temur Kutsia', 'B. Buchberger', 'A. Vats', 'Than Htut Soe', 'Hailun Zhang', 'Rafael Kiesel', 'Neng-Fa Zhou', 'Aws Albarghouthi', 'S. Mahadevan', 'Maximilian Heinrich', 'E. Moyer', 'M. Margenstern', 'Christopher Robinson', 'Thanchanok Sutjarittham', 'Nicholas Kantack', 'Zhicheng He', 'Ezekiel J. Maier', 'Ambreen Hanif', 'Christian Toemmel', 'Sultan Javed Majeed', 'David McCaffary', 'Ruoyu Wang', 'X. Liang', 'Madhav Agarwal', 'Xingqin Lin', 'Tianhua Zhu', 'M. Dubova', 'Amir-Reza Asadi', 'V. Senkevich', 'J. Piorkowski', 'Vacslav Glukhov', 'B. Hosp', 'Jim Davis', 'J. D. Ndibwile', 'P. Leikanger', 'T. Baumann', 'C. Fanelli', 'S. Mengel', 'Vikram Goddla', 'Munindar P. Singh', 'Yutao Yue', 'S. Knight', 'B. Subirana', 'J. Reser', 'Leye Wang', 'A. Valizadeh', 'A. Constantin', 'Chottiwatt Jittprasong', 'Sandra Wachter', 'N. Hasabnis', 'Annet Onnes', 'Csaba Veres', 'Advait Sarkar', 'I. Rakhmatulin', 'Erik Skalnes', 'F. Lobato', 'Y. Coadou', 'A. Turner', 'S. Reeves', 'Lize Alberts', 'Alan Chan', 'Mario Lezcano Casado', 'Lavanya Singh', 'Zach Hansen', 'Marina Zajnulina', 'Youheng Zhang', 'Hector G. T. Torres', 'K. Wendland', 'Wei Su', 'A. Maksimova', 'E. Mjolsness', 'Robert Bain', 'N. Roos', 'M. H. Chehreghani', 'Adebayo Oshingbesan', \"C. L'opez\", 'Mehmet S. Ismail', 'Kenneth Odoh', 'Gyula Klima', 'Kotaro Funakoshi', 'Keishu Utimula', 'Hanna Abi Akl', 'Ujwal Saini', 'Sai Chaitanya Balli', 'A. Sarker', 'Suignard Philippe', 'K. Ray', 'Wen Zhou', 'Yongxin Li', 'Christeena Jose', 'Danilo Carastan dos Santos', 'Emily C Hadley', 'J. Brusseau', 'Zheyu Zhang', 'Tom Young', 'I. Momennejad', 'Changcun Huang', 'F. Guerrero-Solé', 'R. Fulbright', 'J. Adams', 'Lee D. Sharkey', 'Jacob Rast', 'S. Ahilan', 'Niklas Zwingenberger', 'Gerald Artner', 'Eldan R. Daniel', 'Alexander Kilpatrick', 'Andrea Fanti', 'Mahendra Samarawickrama', 'John J. Nay', 'S. Nõmm', 'Loren Rieffer-Champlin', \"Christian Anti'c\", 'Zoha Tariq', 'Sabina-Cristiana Necula', 'J. Bell', 'Koichi Takahashi', 'Yang Yuan', 'Su Bonan', 'Mengfei Ye', 'Claudio Zito', 'Pengyuan Zhou', 'M. Modiri', 'Dan Hendrycks', 'Roman Lutz', 'S. F. Pileggi', 'Eric Schwitzgebel', 'Chiara Gallese', 'Nick DiSanto', 'A. Mani', 'Deep Kumar Kirtania', 'A. Kozachinskiy', 'Roberto Casadei', 'F. Rundo', 'Tarry Singh', 'K. Janowicz', 'Chenkai Ma', 'L. Herm', 'Xiaoling Hu', 'Chinasa T. Okolo', 'Yuyan Li', 'Christian Antić', 'Neelesh Mungoli', 'Ishan Shivansh Bangroo', 'Ty Roachford', 'Kahraman Kostas', 'F. Stollenwerk', 'Hanyu Sun', 'L. Kish', 'O. Schulte', 'Michal Olek', 'Sanyam Jain', 'Christopher D. Blakely', 'J. Sifakis', 'N. Tomczak', 'Ben You', 'D. Tafazoli', 'S. Huseynov', 'Akiri Surely', 'Dmitry Mikhailov', 'Christopher Johann Clarke', 'He Wen', 'Agnieszka Lawrynowicz', 'Eric V. Strobl', 'Maya Karanouh', 'Walid S. Saba', 'Alex Altair', 'Nam D. Nguyen', 'G. Kortemeyer', 'Matthias Unverzagt', 'N. Megiddo', 'N. A. Parikh', 'Joseph Andersen', 'JiaoJiao Fan', 'Sid Ijju', 'I. Maksymov', 'Rainer Rehak', 'Taboubi Ahmed', 'M. Sharples', 'Haiping Huang', 'Paolo Pagliuca', 'Hyemin Han', 'Md. Russell Talukder', 'R. Lano', 'I. Wolfson', 'Georgi Ganev', 'B. Hodkinson', 'Daijin Yang', 'Zheng-Kuo Wu', 'Zachary Robertson', 'Sheetal Temara', 'Johannes Jaeger', 'Andrea Baronchelli', 'Yuanhao Gong', 'Shimian Zhang', 'Barco Jie You', 'Nedelina Teneva', 'Satoru Fujii', 'Holger Arndt', 'Megat Irfan Zackry Bin Ismail Ahmad Nazran bin Yusri Muh Kamarozaman', 'Peixin Tian', 'S. Kikot', 'Weishun Zhong', 'Carlos Ferreira', 'Salvatore Spina', 'David A. Tovar', 'V. Dhar', 'D. Parker', 'Jiuqi Yan', 'D. Spennemann', 'Manikanta Kotaru', 'H. Price', 'Alessio Buscemi', 'Shimon Komarovsky', 'Santanu Ganguly', 'Makayla M. Lewis', 'Benjamin Kenwright', 'M. Hochberg', 'Aline Ioste', 'R. Krohling', 'J. Gertz', 'D. Higham', 'Tobias Geibinger', 'Tin Lai', 'Andre Fu', 'Igor Sevo', 'Yulu Pi', 'Vineel S. K. Tummala', 'Jonny Luntzel', 'P. Agrawal', 'Uduak Uboh', 'Jeffrey W. Johnston', 'Myke Healy', 'Manuel Wörsdörfer', 'Gregory Gondwe', 'Chunan Tong', 'Mehrzad Saremi', 'Polra Victor Falade', 'Michal Natorski', 'Eren Unlu', 'Alex Kontorovich', 'Shan Ye', 'Sam Hainsworth', 'Sadasivan Shankar', 'Ian Watson', 'Lakshwin Shreesha', 'Hotaka Maeda', 'Ioannis Nasios', 'Hannes Fassold', 'Vincenzo Calderonio', 'Rose Hadshar', 'Wei Zhou', 'Sopam Dasgupta', 'Hongjun Zhang', 'Morgan R. Frank', 'Eric Melz', 'Diaeddin Rimawi', 'David R. Mandel', 'Morocco Solidarity Hackathon', 'Anthony Aguirre', 'Benji Alwis', 'Keivalya Pandya', 'Michael Klenk', 'Yanyi Pu', 'Abdolmajid Erfani', 'Vincent A. Cicirello', 'Mohammad AL-Smadi', 'Sabine Wehnert', 'Raby Hamadi', 'Andrey Polyakov', 'William R. Hersh', 'R. A. Aboalela', 'Jennifer Listgarten', 'Anna A. Ivanova', 'Zeteng Lin', 'Shiro Takagi', 'Timo Freiesleben', 'Mario Burgui-Burgui', 'Subhadip Kumar', 'Samuel J. Paech', 'Qi Shi', 'Shane Storm Strachan', 'Bing Liu', 'Milad Rogha', 'Juho Kim', 'Demircan Tas', 'Bernardo Gonçalves', 'Siva Raja Sindiramutty', 'Chaitanya Singh', 'Orson Mengara', 'E. N. Osegi', 'T. S. Goetze', 'Mark Adkins', 'Stephen Pilli', 'Feng Wang', 'Xuchen Suo', 'Dimitri Coelho Mollo', 'Udesh Habaraduwa', 'Mark A. Atkins', 'Sean Tucker', 'Florin Leon', 'Chandregowda Pachegowda', 'Xiaoxi Wang', 'Matthew E. Walsh', 'M. Makhortykh', 'Ali Saffarini', 'Daniil Sulimov', 'Nicholas Stroh', 'Yushu Jiang', 'Alex Grzankowski', 'Vincent Jorgsson', 'Matteo Silvestri', 'Jazmia Henry', 'Matthew Fox', \"Antonio San Mart'in\", 'Jean-Marie Chauvet', 'Marion Ho-Dac', 'Dejan Grba', 'Baihan Lin', 'Mohamed Louadi', 'Knud Thomsen', 'Elliott Thornley', 'Pedro Zuidberg Dos Martires', 'Simon Lacan', 'Candice P. Chu', 'Sebastian Lehuede', 'B. Colelough', 'Jay Nemec', 'Michael Chertkov', 'Ergon Cugler de Moraes Silva', 'Kapil Panda', 'Pei Xi Lin', 'Nicola Fabiano', 'Hakam Ghanim', 'Saikat Barua', 'Songhui Yue', 'Jindong Gu', 'Finlay McGee', 'Cailean Osborne', 'Elisa Cabana', 'Ryan Williams', 'Ö. Gürcan', 'Hyeonggeun Yun', 'Sumedh Rasal', 'Andres Campero', 'Osher Lerner', 'P. Thagard', 'Michael A. Garret', 'Anwaar Ulhaq', 'Eric Gilbert', 'Ziyao Li', 'Wei-Yu Chen', 'Oliver Brock', 'Peratham Wiriyathammabhum', 'M. Ayodele', 'Robert Johansson', 'Margarida Romero', 'Leroy Jacob Valencia', 'Tevfik Uyar', 'Gianmarco Mengaldo', 'Alonso Silva', 'Ahmed M Salih', 'Jie Wang', 'Yong Xie', 'Jingwei Wang', 'Mike Thelwall', 'Pavan Katta', 'Jay Seitz', 'Osama F. Zaki', 'Isabela Rocha', 'Hanxiao Chen', 'Mfon Akpan', 'Anna Romanova', 'Meng Lu', 'Massimo Passamonti', 'Wim Vanderbauwhede', 'Markus Iser', 'Nishargo Nigar', 'Daniel Szelogowski', 'Jongwoo Seo', 'T. Shaska', 'Kazunori D. Yamada', 'Cătălin Vrabie', 'Yulai Cong', 'Giacomo De Colle', 'Kari D. Weaver', 'M. A. Sayedelahl', 'Irina Spiegel', 'Marwan Omar', 'Runhao Zhang', 'Hongyin Zhu', 'Jun Otsuka', 'Gregor Betz', 'Nuno Sousa e Silva', 'Wenxuan Wang', 'Edward Y. Chang', 'Don Byrd', 'Qingwen Fu', 'Yoshiki Fukada', 'Marta Szymczyk', 'Denis Newman-Griffis', 'Suayb S. Arslan', 'Aravinda Jatavallabha', 'Junjun Huang', 'Julian Stier', 'W. L. Santo', 'Soojong Kim', 'Johannes Dahlke', 'Animesh Kumar', 'Yimeng Min', 'Jamie Milton Freestone', 'Alejandro Tlaie', 'Katsiaryna Bahamazava', 'Yihao Zhang', 'Serge Dolgikh', 'Jonghong Jeon', 'Morgan S. Porter', 'Hiroki Takizawa', 'Djaber Rouabhia', 'Jun Cui', 'Shahab Kavousinejad', 'Akul Datta', 'Joshua T. S. Hewson', 'MD Ragib Shahriyear', 'Michael Guerzhoy', 'Tejas Satish Gotavade', 'Gabriel Simmons', 'Nico Roos', 'Philippe Boisnard', 'P. B. Graben', 'Rémy Demichelis', 'Michael Stoltz', 'Sai Krishna Reddy Sathi', 'Alex Glynn', 'Mackenzie W. Mathis', 'Roberto Rossi', 'S. Baghram', 'C. Nourani', 'C. D. Marcken', 'J. Pollock', 'Konstantinos Georgatos', 'P. Gopych', 'K. Apt', 'Giovambattista Ianni', 'P. Albarede', 'Mikalai Birukou', 'M. Bruynooghe', 'Archil Avaliani', 'Andreas Maurer', 'J. Rennard', 'Shashank Araokar', 'Prashant', 'Abhilash Ponnath', 'W. Jakuczun', 'A. Suciu', 'Audun Jøsang', 'S. Brand', 'L. Vaserstein', 'U. Gayathree', 'D. Knuth', 'Matthew L. Ginsberg', 'M. Buro', 'J. R. Quinlan', 'R. Ben-Eliyahu-Zohary', 'J. Engelfriet', \"J. O'Rourke\", 'John C. Collins', 'Fariel Shafee']\n",
      "Number of isolated nodes: 944\n"
     ]
    }
   ],
   "source": [
    "# Identify isolated nodes in a MultiGraph (nodes with no edges)\n",
    "isolated_nodes = [node for node, degree in G.degree() if degree == 0]\n",
    "\n",
    "print(f\"Isolated nodes: {isolated_nodes}\")\n",
    "print(f\"Number of isolated nodes: {len(isolated_nodes)}\")"
   ]
  },
  {
   "cell_type": "markdown",
   "metadata": {},
   "source": [
    "#### Filter self-loops"
   ]
  },
  {
   "cell_type": "code",
   "execution_count": null,
   "metadata": {},
   "outputs": [
    {
     "name": "stdout",
     "output_type": "stream",
     "text": [
      "Self-loops in the graph:\n",
      "Self-loop: (A. Coles, A. Coles, key=0)\n",
      "Self-loop: (J. Wolff, J. Wolff, key=0)\n",
      "Self-loop: (Iztok Fister, Iztok Fister, key=0)\n",
      "Self-loop: (Iztok Fister, Iztok Fister, key=1)\n",
      "Self-loop: (C. Turcu, C. Turcu, key=0)\n",
      "Self-loop: (Ian J. Taylor, Ian J. Taylor, key=0)\n",
      "Self-loop: (C. Blease, C. Blease, key=0)\n",
      "Self-loop: (Cosima Locher, Cosima Locher, key=0)\n",
      "Self-loop: (Jian Liu, Jian Liu, key=0)\n",
      "Self-loop: (Giancarlo Maraﬁoti, Giancarlo Maraﬁoti, key=0)\n",
      "Self-loop: (Ieee B Member, Ieee B Member, key=0)\n",
      "Self-loop: (Ningyu Zhang, Ningyu Zhang, key=0)\n",
      "Self-loop: (D. Das, D. Das, key=0)\n",
      "Self-loop: (S. Ruggieri, S. Ruggieri, key=0)\n",
      "Self-loop: (Amit Sheth, Amit Sheth, key=0)\n",
      "Self-loop: (Lukás Sekanina, Lukás Sekanina, key=0)\n",
      "Self-loop: (E. Németh, E. Németh, key=0)\n",
      "Self-loops have been removed.\n"
     ]
    }
   ],
   "source": [
    "# Identify self-loops in the graph\n",
    "self_loops = [(u, v, k) for u, v, k in G.edges(keys=True) if u == v]\n",
    "\n",
    "# Print the self-loops\n",
    "print(\"Self-loops in the graph:\")\n",
    "for u, v, k in self_loops:\n",
    "    print(f\"Self-loop: ({u}, {v}, key={k})\")\n",
    "\n",
    "# Remove the self-loops\n",
    "G.remove_edges_from(self_loops)\n",
    "\n",
    "print(\"\\nSelf-loops have been removed.\")"
   ]
  },
  {
   "cell_type": "markdown",
   "metadata": {},
   "source": [
    "#### Extract Giant Connected Component"
   ]
  },
  {
   "cell_type": "code",
   "execution_count": 65,
   "metadata": {},
   "outputs": [
    {
     "name": "stdout",
     "output_type": "stream",
     "text": [
      "Giant component has 3675 nodes and 16709 edges.\n"
     ]
    }
   ],
   "source": [
    "connected_components = list(nx.connected_components(G))\n",
    "\n",
    "# Identify the largest connected component (the giant component)\n",
    "giant_component = max(connected_components, key=len)\n",
    "\n",
    "# Create a subgraph for the giant component\n",
    "giant_subgraph = G.subgraph(giant_component).copy()\n",
    "\n",
    "# Print some statistics about the giant component\n",
    "print(f\"Giant component has {len(giant_subgraph.nodes)} nodes and {len(giant_subgraph.edges)} edges.\")"
   ]
  },
  {
   "cell_type": "markdown",
   "metadata": {},
   "source": [
    "#### Save graph in a pickle file"
   ]
  },
  {
   "cell_type": "code",
   "execution_count": 67,
   "metadata": {},
   "outputs": [
    {
     "name": "stdout",
     "output_type": "stream",
     "text": [
      "Graph saved to researchers_graph_gcc.pkl\n"
     ]
    }
   ],
   "source": [
    "# Save graph\n",
    "name = \"researchers_graph_gcc.pkl\"\n",
    "with open(name, \"wb\") as f:\n",
    "    pickle.dump(giant_subgraph, f)\n",
    "print(f\"Graph saved to {name}\")"
   ]
  }
 ],
 "metadata": {
  "kernelspec": {
   "display_name": "social-graphs",
   "language": "python",
   "name": "python3"
  },
  "language_info": {
   "codemirror_mode": {
    "name": "ipython",
    "version": 3
   },
   "file_extension": ".py",
   "mimetype": "text/x-python",
   "name": "python",
   "nbconvert_exporter": "python",
   "pygments_lexer": "ipython3",
   "version": "3.12.4"
  }
 },
 "nbformat": 4,
 "nbformat_minor": 2
}
